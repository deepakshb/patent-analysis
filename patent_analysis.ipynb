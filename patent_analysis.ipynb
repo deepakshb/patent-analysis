{
 "cells": [
  {
   "cell_type": "markdown",
   "metadata": {
    "colab_type": "text",
    "id": "fckVhFaiDlp5"
   },
   "source": [
    "# Multilable Classification on Patent Application Dataset"
   ]
  },
  {
   "cell_type": "code",
   "execution_count": 1,
   "metadata": {
    "colab": {
     "base_uri": "https://localhost:8080/",
     "height": 34
    },
    "colab_type": "code",
    "id": "5TUrh2_QQFdH",
    "outputId": "ef80d005-1470-411b-9b97-68688169ae82"
   },
   "outputs": [
    {
     "name": "stdout",
     "output_type": "stream",
     "text": [
      "Drive already mounted at /content/drive; to attempt to forcibly remount, call drive.mount(\"/content/drive\", force_remount=True).\n"
     ]
    }
   ],
   "source": [
    "from google.colab import drive\n",
    "drive.mount('/content/drive')"
   ]
  },
  {
   "cell_type": "code",
   "execution_count": 0,
   "metadata": {
    "colab": {},
    "colab_type": "code",
    "id": "Sbxy4ky5Q1Ie"
   },
   "outputs": [],
   "source": [
    "import pandas as pd"
   ]
  },
  {
   "cell_type": "code",
   "execution_count": 0,
   "metadata": {
    "colab": {},
    "colab_type": "code",
    "id": "ghGlAP1URCsp"
   },
   "outputs": [],
   "source": [
    "df = pd.read_csv('/content/drive/My Drive/Colab Notebooks/DL Project/patent_analysis_data.csv')\n",
    "from sklearn.utils import shuffle\n",
    "df = shuffle(df,random_state=101)"
   ]
  },
  {
   "cell_type": "markdown",
   "metadata": {
    "colab_type": "text",
    "id": "13kqeZgksBHP"
   },
   "source": [
    "#**0. Setting Hirarchy of labels**"
   ]
  },
  {
   "cell_type": "markdown",
   "metadata": {
    "colab_type": "text",
    "id": "sRLXAcFv_6eJ"
   },
   "source": [
    "Remove Square brackets and quotes from Subclass_labels column"
   ]
  },
  {
   "cell_type": "code",
   "execution_count": 0,
   "metadata": {
    "colab": {},
    "colab_type": "code",
    "id": "JiGojpAHRRJV"
   },
   "outputs": [],
   "source": [
    "import re\n",
    "cleaned_labels = [tuple(re.sub(\"\\[|\\]|\\'\", '', x).split(', ')) for x in df.Subclass_labels.values]"
   ]
  },
  {
   "cell_type": "markdown",
   "metadata": {
    "colab_type": "text",
    "id": "B6NcdVkBAIDH"
   },
   "source": [
    "Convert the values of Subclass_labels column into tuples "
   ]
  },
  {
   "cell_type": "code",
   "execution_count": 0,
   "metadata": {
    "colab": {},
    "colab_type": "code",
    "id": "1HWuM_vKaBjp"
   },
   "outputs": [],
   "source": [
    "df_classes = []\n",
    "for label_tuple in cleaned_labels:\n",
    "  list_lbl = list(label_tuple)\n",
    "  arr_class = []\n",
    "  for indv_lbl in list_lbl:\n",
    "    if indv_lbl[0] not in arr_class:\n",
    "      arr_class.append(indv_lbl[0])\n",
    "  df_classes.append(tuple(arr_class))\n",
    "df.Subclass_labels = df_classes  "
   ]
  },
  {
   "cell_type": "markdown",
   "metadata": {
    "colab_type": "text",
    "id": "yWbsQTJtgJ9b"
   },
   "source": [
    "## **0.1 Data Snapshot**"
   ]
  },
  {
   "cell_type": "code",
   "execution_count": 6,
   "metadata": {
    "colab": {
     "base_uri": "https://localhost:8080/",
     "height": 359
    },
    "colab_type": "code",
    "id": "BeKwgyXqcaUe",
    "outputId": "60c1bf1e-ffd0-4917-840a-8fd6df135efa"
   },
   "outputs": [
    {
     "data": {
      "text/html": [
       "<div>\n",
       "<style scoped>\n",
       "    .dataframe tbody tr th:only-of-type {\n",
       "        vertical-align: middle;\n",
       "    }\n",
       "\n",
       "    .dataframe tbody tr th {\n",
       "        vertical-align: top;\n",
       "    }\n",
       "\n",
       "    .dataframe thead th {\n",
       "        text-align: right;\n",
       "    }\n",
       "</style>\n",
       "<table border=\"1\" class=\"dataframe\">\n",
       "  <thead>\n",
       "    <tr style=\"text-align: right;\">\n",
       "      <th></th>\n",
       "      <th>Unnamed: 0</th>\n",
       "      <th>Subclass_labels</th>\n",
       "      <th>Abstract</th>\n",
       "      <th>Title</th>\n",
       "      <th>No</th>\n",
       "    </tr>\n",
       "  </thead>\n",
       "  <tbody>\n",
       "    <tr>\n",
       "      <th>6676</th>\n",
       "      <td>6676</td>\n",
       "      <td>(A,)</td>\n",
       "      <td>a metal detector digging tool apparatus has an...</td>\n",
       "      <td>metal detector digging tool apparatus</td>\n",
       "      <td>US08931816</td>\n",
       "    </tr>\n",
       "    <tr>\n",
       "      <th>6421</th>\n",
       "      <td>6421</td>\n",
       "      <td>(E,)</td>\n",
       "      <td>force dampening arrangement for dampening forc...</td>\n",
       "      <td>auxiliary subsurface compensator</td>\n",
       "      <td>US08931563</td>\n",
       "    </tr>\n",
       "    <tr>\n",
       "      <th>9834</th>\n",
       "      <td>9834</td>\n",
       "      <td>(A, B)</td>\n",
       "      <td>in a minimally invasive surgical system a hand...</td>\n",
       "      <td>method and system for hand presence detection ...</td>\n",
       "      <td>US08935003</td>\n",
       "    </tr>\n",
       "    <tr>\n",
       "      <th>8492</th>\n",
       "      <td>8492</td>\n",
       "      <td>(H,)</td>\n",
       "      <td>a driver for an led lamp assembly includes a r...</td>\n",
       "      <td>dimmable led lamp</td>\n",
       "      <td>US08933642</td>\n",
       "    </tr>\n",
       "    <tr>\n",
       "      <th>9982</th>\n",
       "      <td>9982</td>\n",
       "      <td>(G,)</td>\n",
       "      <td>a computer implemented process computer progra...</td>\n",
       "      <td>system and method for examining concurrent sys...</td>\n",
       "      <td>US08935144</td>\n",
       "    </tr>\n",
       "    <tr>\n",
       "      <th>8844</th>\n",
       "      <td>8844</td>\n",
       "      <td>(H,)</td>\n",
       "      <td>a system for two dimensional 2 d or three dime...</td>\n",
       "      <td>switchable 2 d 3 d display system</td>\n",
       "      <td>US08934000</td>\n",
       "    </tr>\n",
       "    <tr>\n",
       "      <th>7247</th>\n",
       "      <td>7247</td>\n",
       "      <td>(C,)</td>\n",
       "      <td>a zinc oxide precursor for use in deposition o...</td>\n",
       "      <td>zinc oxide precursor and method of depositing ...</td>\n",
       "      <td>US08932389</td>\n",
       "    </tr>\n",
       "    <tr>\n",
       "      <th>5862</th>\n",
       "      <td>5862</td>\n",
       "      <td>(H,)</td>\n",
       "      <td>according to an aspect there is provided a dig...</td>\n",
       "      <td>information descriptor and extended informatio...</td>\n",
       "      <td>US08931006</td>\n",
       "    </tr>\n",
       "    <tr>\n",
       "      <th>3662</th>\n",
       "      <td>3662</td>\n",
       "      <td>(H,)</td>\n",
       "      <td>an antenna comprising a network of arrayed rad...</td>\n",
       "      <td>choke reflector antenna</td>\n",
       "      <td>US08928548</td>\n",
       "    </tr>\n",
       "    <tr>\n",
       "      <th>3457</th>\n",
       "      <td>3457</td>\n",
       "      <td>(G,)</td>\n",
       "      <td>a switchable viewing angle display method is p...</td>\n",
       "      <td>switchable viewing angle display</td>\n",
       "      <td>US08928567</td>\n",
       "    </tr>\n",
       "  </tbody>\n",
       "</table>\n",
       "</div>"
      ],
      "text/plain": [
       "      Unnamed: 0  ...          No\n",
       "6676        6676  ...  US08931816\n",
       "6421        6421  ...  US08931563\n",
       "9834        9834  ...  US08935003\n",
       "8492        8492  ...  US08933642\n",
       "9982        9982  ...  US08935144\n",
       "8844        8844  ...  US08934000\n",
       "7247        7247  ...  US08932389\n",
       "5862        5862  ...  US08931006\n",
       "3662        3662  ...  US08928548\n",
       "3457        3457  ...  US08928567\n",
       "\n",
       "[10 rows x 5 columns]"
      ]
     },
     "execution_count": 6,
     "metadata": {
      "tags": []
     },
     "output_type": "execute_result"
    }
   ],
   "source": [
    "df.head(10)"
   ]
  },
  {
   "cell_type": "code",
   "execution_count": 0,
   "metadata": {
    "colab": {},
    "colab_type": "code",
    "id": "6asVAEwXqBuf"
   },
   "outputs": [],
   "source": [
    "single_label = {'A':0,'B':0,'C':0,'D':0,'E':0,'F':0,'G':0,'H':0}\n",
    "multilabel = {'A':0,'B':0,'C':0,'D':0,'E':0,'F':0,'G':0,'H':0}\n",
    "classes = ['A','B','C','D','E','F','G','H']\n",
    "for i in df.Subclass_labels.values:\n",
    "  list_lbl = list(i)\n",
    "  for j in i:\n",
    "    if len(list_lbl) > 1:\n",
    "      multilabel[j] = multilabel[j] + 1\n",
    "    single_label[j] = single_label[j] + 1"
   ]
  },
  {
   "cell_type": "markdown",
   "metadata": {
    "colab_type": "text",
    "id": "dDU28jnbu-8U"
   },
   "source": [
    "##**0.2 Dataset Visualization**"
   ]
  },
  {
   "cell_type": "code",
   "execution_count": 8,
   "metadata": {
    "colab": {
     "base_uri": "https://localhost:8080/",
     "height": 298
    },
    "colab_type": "code",
    "id": "YUqgJzY0r4kz",
    "outputId": "ff3910f1-37cc-4581-f879-48727e246658"
   },
   "outputs": [
    {
     "data": {
      "image/png": "[encoded data removed]",
      "text/plain": [
       "<Figure size 432x288 with 1 Axes>"
      ]
     },
     "metadata": {
      "tags": []
     },
     "output_type": "display_data"
    }
   ],
   "source": [
    "import matplotlib.pyplot as plt\n",
    "%matplotlib inline\n",
    "index = list(single_label.keys())\n",
    "plt.bar(index, list(single_label.values()))\n",
    "plt.xlabel('Label', fontsize=12)\n",
    "plt.ylabel('No of Patents', fontsize=12)\n",
    "plt.title('Number of Patents per class')\n",
    "plt.show()"
   ]
  },
  {
   "cell_type": "code",
   "execution_count": 9,
   "metadata": {
    "colab": {
     "base_uri": "https://localhost:8080/",
     "height": 298
    },
    "colab_type": "code",
    "id": "pUKTcaZ8uhYK",
    "outputId": "576d6a9e-f9e8-411b-bdfe-d354cce80b0a"
   },
   "outputs": [
    {
     "data": {
      "image/png": "[encoded data removed]",
      "text/plain": [
       "<Figure size 432x288 with 1 Axes>"
      ]
     },
     "metadata": {
      "tags": []
     },
     "output_type": "display_data"
    }
   ],
   "source": [
    "import matplotlib.pyplot as plt\n",
    "%matplotlib inline\n",
    "index = list(multilabel.keys())\n",
    "plt.bar(index, list(multilabel.values()))\n",
    "plt.xlabel('Label', fontsize=12)\n",
    "plt.ylabel('No of Patents', fontsize=12)\n",
    "plt.title('Number of Patents per class (Multiple classes)')\n",
    "plt.show()"
   ]
  },
  {
   "cell_type": "code",
   "execution_count": 0,
   "metadata": {
    "colab": {},
    "colab_type": "code",
    "id": "eOEGnF2vvi5V"
   },
   "outputs": [],
   "source": [
    "abstracts = df.Abstract.values\n",
    "titles = df.Title.values"
   ]
  },
  {
   "cell_type": "code",
   "execution_count": 0,
   "metadata": {
    "colab": {},
    "colab_type": "code",
    "id": "wD-zal0Dvi5c"
   },
   "outputs": [],
   "source": [
    "for i in range(len(abstracts)):\n",
    "  abstracts[i] = titles[i] + ' : ' + abstracts[i]"
   ]
  },
  {
   "cell_type": "code",
   "execution_count": 0,
   "metadata": {
    "colab": {},
    "colab_type": "code",
    "id": "Gw6S5KZlvi5e"
   },
   "outputs": [],
   "source": [
    "df.Abstract = abstracts"
   ]
  },
  {
   "cell_type": "code",
   "execution_count": 13,
   "metadata": {
    "colab": {
     "base_uri": "https://localhost:8080/",
     "height": 204
    },
    "colab_type": "code",
    "id": "9mnnpKLPvi5g",
    "outputId": "92811f90-66c0-4b9b-e8a7-f2f37fc3af61"
   },
   "outputs": [
    {
     "data": {
      "text/html": [
       "<div>\n",
       "<style scoped>\n",
       "    .dataframe tbody tr th:only-of-type {\n",
       "        vertical-align: middle;\n",
       "    }\n",
       "\n",
       "    .dataframe tbody tr th {\n",
       "        vertical-align: top;\n",
       "    }\n",
       "\n",
       "    .dataframe thead th {\n",
       "        text-align: right;\n",
       "    }\n",
       "</style>\n",
       "<table border=\"1\" class=\"dataframe\">\n",
       "  <thead>\n",
       "    <tr style=\"text-align: right;\">\n",
       "      <th></th>\n",
       "      <th>Unnamed: 0</th>\n",
       "      <th>Subclass_labels</th>\n",
       "      <th>Abstract</th>\n",
       "      <th>Title</th>\n",
       "      <th>No</th>\n",
       "    </tr>\n",
       "  </thead>\n",
       "  <tbody>\n",
       "    <tr>\n",
       "      <th>6676</th>\n",
       "      <td>6676</td>\n",
       "      <td>(A,)</td>\n",
       "      <td>metal detector digging tool apparatus : a meta...</td>\n",
       "      <td>metal detector digging tool apparatus</td>\n",
       "      <td>US08931816</td>\n",
       "    </tr>\n",
       "    <tr>\n",
       "      <th>6421</th>\n",
       "      <td>6421</td>\n",
       "      <td>(E,)</td>\n",
       "      <td>auxiliary subsurface compensator : force dampe...</td>\n",
       "      <td>auxiliary subsurface compensator</td>\n",
       "      <td>US08931563</td>\n",
       "    </tr>\n",
       "    <tr>\n",
       "      <th>9834</th>\n",
       "      <td>9834</td>\n",
       "      <td>(A, B)</td>\n",
       "      <td>method and system for hand presence detection ...</td>\n",
       "      <td>method and system for hand presence detection ...</td>\n",
       "      <td>US08935003</td>\n",
       "    </tr>\n",
       "    <tr>\n",
       "      <th>8492</th>\n",
       "      <td>8492</td>\n",
       "      <td>(H,)</td>\n",
       "      <td>dimmable led lamp : a driver for an led lamp a...</td>\n",
       "      <td>dimmable led lamp</td>\n",
       "      <td>US08933642</td>\n",
       "    </tr>\n",
       "    <tr>\n",
       "      <th>9982</th>\n",
       "      <td>9982</td>\n",
       "      <td>(G,)</td>\n",
       "      <td>system and method for examining concurrent sys...</td>\n",
       "      <td>system and method for examining concurrent sys...</td>\n",
       "      <td>US08935144</td>\n",
       "    </tr>\n",
       "  </tbody>\n",
       "</table>\n",
       "</div>"
      ],
      "text/plain": [
       "      Unnamed: 0  ...          No\n",
       "6676        6676  ...  US08931816\n",
       "6421        6421  ...  US08931563\n",
       "9834        9834  ...  US08935003\n",
       "8492        8492  ...  US08933642\n",
       "9982        9982  ...  US08935144\n",
       "\n",
       "[5 rows x 5 columns]"
      ]
     },
     "execution_count": 13,
     "metadata": {
      "tags": []
     },
     "output_type": "execute_result"
    }
   ],
   "source": [
    "df.head()"
   ]
  },
  {
   "cell_type": "markdown",
   "metadata": {
    "colab_type": "text",
    "id": "0mHDLlxhjdDL"
   },
   "source": [
    "#**1. Multilabel Classification - Baseline Model using Glove embeddings**"
   ]
  },
  {
   "cell_type": "code",
   "execution_count": 0,
   "metadata": {
    "colab": {},
    "colab_type": "code",
    "id": "fOoJj16fvZ15"
   },
   "outputs": [],
   "source": []
  },
  {
   "cell_type": "markdown",
   "metadata": {
    "colab_type": "text",
    "id": "ZAKZpUulrqGE"
   },
   "source": [
    "## **1.1 Feature Extraction**"
   ]
  },
  {
   "cell_type": "code",
   "execution_count": 14,
   "metadata": {
    "colab": {
     "base_uri": "https://localhost:8080/",
     "height": 80
    },
    "colab_type": "code",
    "id": "g18jpXNqB_Al",
    "outputId": "b7d5ebb1-093b-48cc-caf4-30d27d5af35d"
   },
   "outputs": [
    {
     "name": "stderr",
     "output_type": "stream",
     "text": [
      "Using TensorFlow backend.\n"
     ]
    },
    {
     "data": {
      "text/html": [
       "<p style=\"color: red;\">\n",
       "The default version of TensorFlow in Colab will soon switch to TensorFlow 2.x.<br>\n",
       "We recommend you <a href=\"https://www.tensorflow.org/guide/migrate\" target=\"_blank\">upgrade</a> now \n",
       "or ensure your notebook will continue to use TensorFlow 1.x via the <code>%tensorflow_version 1.x</code> magic:\n",
       "<a href=\"https://colab.research.google.com/notebooks/tensorflow_version.ipynb\" target=\"_blank\">more info</a>.</p>\n"
      ],
      "text/plain": [
       "<IPython.core.display.HTML object>"
      ]
     },
     "metadata": {
      "tags": []
     },
     "output_type": "display_data"
    }
   ],
   "source": [
    "from keras.preprocessing.text import Tokenizer\n",
    "from keras.preprocessing.sequence import pad_sequences"
   ]
  },
  {
   "cell_type": "code",
   "execution_count": 0,
   "metadata": {
    "colab": {},
    "colab_type": "code",
    "id": "sHVhUj9mEZU3"
   },
   "outputs": [],
   "source": [
    "texts = df.Abstract.values"
   ]
  },
  {
   "cell_type": "code",
   "execution_count": 0,
   "metadata": {
    "colab": {},
    "colab_type": "code",
    "id": "pL09OeUPCEO0"
   },
   "outputs": [],
   "source": [
    "tokenizer = Tokenizer(num_words=100000)\n",
    "tokenizer.fit_on_texts(texts)"
   ]
  },
  {
   "cell_type": "markdown",
   "metadata": {
    "colab_type": "text",
    "id": "anZST-ulr2AP"
   },
   "source": [
    "Tokens into sequences"
   ]
  },
  {
   "cell_type": "code",
   "execution_count": 0,
   "metadata": {
    "colab": {},
    "colab_type": "code",
    "id": "W453N_twDms7"
   },
   "outputs": [],
   "source": [
    "sequences = tokenizer.texts_to_sequences(texts)\n",
    "data = pad_sequences(sequences)"
   ]
  },
  {
   "cell_type": "code",
   "execution_count": 18,
   "metadata": {
    "colab": {
     "base_uri": "https://localhost:8080/",
     "height": 34
    },
    "colab_type": "code",
    "id": "jwhnHlNVNKDw",
    "outputId": "79655cd1-8627-4b21-9cdf-2d608302ae26"
   },
   "outputs": [
    {
     "data": {
      "text/plain": [
       "(10000, 424)"
      ]
     },
     "execution_count": 18,
     "metadata": {
      "tags": []
     },
     "output_type": "execute_result"
    }
   ],
   "source": [
    "data.shape"
   ]
  },
  {
   "cell_type": "markdown",
   "metadata": {
    "colab_type": "text",
    "id": "9fdjnPL_sW3s"
   },
   "source": [
    "Split Data into 10% test and 90% training sets"
   ]
  },
  {
   "cell_type": "code",
   "execution_count": 0,
   "metadata": {
    "colab": {},
    "colab_type": "code",
    "id": "51xuwfxaADgm"
   },
   "outputs": [],
   "source": [
    "from sklearn.model_selection import  train_test_split\n",
    "X_train, X_test, y_train, y_test = train_test_split(data,df.Subclass_labels,test_size=0.1,random_state=101)"
   ]
  },
  {
   "cell_type": "markdown",
   "metadata": {
    "colab_type": "text",
    "id": "tP47MwSsscz7"
   },
   "source": [
    "### **1.1.1 Building the vocabulary**"
   ]
  },
  {
   "cell_type": "code",
   "execution_count": 0,
   "metadata": {
    "colab": {},
    "colab_type": "code",
    "id": "38gVqfxnEKCb"
   },
   "outputs": [],
   "source": [
    "word_index = tokenizer.word_index"
   ]
  },
  {
   "cell_type": "code",
   "execution_count": 0,
   "metadata": {
    "colab": {},
    "colab_type": "code",
    "id": "GTRNhhafFeZ3"
   },
   "outputs": [],
   "source": [
    "from sklearn.preprocessing import MultiLabelBinarizer\n",
    "mlb = MultiLabelBinarizer()\n",
    "y_train_t = mlb.fit_transform(y_train)\n",
    "y_test_t = mlb.fit_transform(y_test)"
   ]
  },
  {
   "cell_type": "code",
   "execution_count": 22,
   "metadata": {
    "colab": {
     "base_uri": "https://localhost:8080/",
     "height": 34
    },
    "colab_type": "code",
    "id": "Opg_qvewG9gi",
    "outputId": "8781961d-58e1-467a-a472-6046c2de006f"
   },
   "outputs": [
    {
     "data": {
      "text/plain": [
       "array(['A', 'B', 'C', 'D', 'E', 'F', 'G', 'H'], dtype=object)"
      ]
     },
     "execution_count": 22,
     "metadata": {
      "tags": []
     },
     "output_type": "execute_result"
    }
   ],
   "source": [
    "mlb.classes_"
   ]
  },
  {
   "cell_type": "markdown",
   "metadata": {
    "colab_type": "text",
    "id": "DXXKlEkdslGc"
   },
   "source": [
    "### **1.1.2 Import Glove embedding file from the Drive**"
   ]
  },
  {
   "cell_type": "code",
   "execution_count": 0,
   "metadata": {
    "colab": {},
    "colab_type": "code",
    "id": "uQRR9C8QIbjh"
   },
   "outputs": [],
   "source": [
    "GLOVE_FILE = '/content/drive/My Drive/Colab Notebooks/DL Project/glove.6B.100d.txt'\n",
    "f = open(GLOVE_FILE,'r')"
   ]
  },
  {
   "cell_type": "code",
   "execution_count": 0,
   "metadata": {
    "colab": {},
    "colab_type": "code",
    "id": "rsQhOExsJ5Ko"
   },
   "outputs": [],
   "source": [
    "embeddings_index = {}\n",
    "import numpy as np\n",
    "for line in f:\n",
    "  values = line.split()\n",
    "  word = values[0]\n",
    "  embeddings_index[word] = np.asarray(values[1:], dtype='float32')\n",
    "f.close()"
   ]
  },
  {
   "cell_type": "markdown",
   "metadata": {
    "colab_type": "text",
    "id": "YE4jliBcsv4B"
   },
   "source": [
    "### **1.1.3 Create an embedding matrix of weights**"
   ]
  },
  {
   "cell_type": "code",
   "execution_count": 0,
   "metadata": {
    "colab": {},
    "colab_type": "code",
    "id": "qxrcs3INKKoF"
   },
   "outputs": [],
   "source": [
    "embedding_matrix = np.random.random((len(word_index) + 1, 100))\n",
    "for word, i in word_index.items():\n",
    "    embedding_vector = embeddings_index.get(word)\n",
    "    if embedding_vector is not None:\n",
    "        embedding_matrix[i] = embedding_vector"
   ]
  },
  {
   "cell_type": "markdown",
   "metadata": {
    "colab_type": "text",
    "id": "jMXtRLaus9ZX"
   },
   "source": [
    "## **1.2 Prepare keras classification model using Glove embeddings**"
   ]
  },
  {
   "cell_type": "code",
   "execution_count": 26,
   "metadata": {
    "colab": {
     "base_uri": "https://localhost:8080/",
     "height": 1000
    },
    "colab_type": "code",
    "id": "0_q7bS_HKxNv",
    "outputId": "a0abb64f-24ea-4fa8-bfca-6934116b7187"
   },
   "outputs": [
    {
     "name": "stdout",
     "output_type": "stream",
     "text": [
      "WARNING:tensorflow:From /usr/local/lib/python3.6/dist-packages/keras/backend/tensorflow_backend.py:66: The name tf.get_default_graph is deprecated. Please use tf.compat.v1.get_default_graph instead.\n",
      "\n",
      "WARNING:tensorflow:From /usr/local/lib/python3.6/dist-packages/keras/backend/tensorflow_backend.py:541: The name tf.placeholder is deprecated. Please use tf.compat.v1.placeholder instead.\n",
      "\n",
      "WARNING:tensorflow:From /usr/local/lib/python3.6/dist-packages/keras/backend/tensorflow_backend.py:4432: The name tf.random_uniform is deprecated. Please use tf.random.uniform instead.\n",
      "\n",
      "WARNING:tensorflow:From /usr/local/lib/python3.6/dist-packages/keras/backend/tensorflow_backend.py:190: The name tf.get_default_session is deprecated. Please use tf.compat.v1.get_default_session instead.\n",
      "\n",
      "WARNING:tensorflow:From /usr/local/lib/python3.6/dist-packages/keras/backend/tensorflow_backend.py:197: The name tf.ConfigProto is deprecated. Please use tf.compat.v1.ConfigProto instead.\n",
      "\n",
      "WARNING:tensorflow:From /usr/local/lib/python3.6/dist-packages/keras/backend/tensorflow_backend.py:203: The name tf.Session is deprecated. Please use tf.compat.v1.Session instead.\n",
      "\n",
      "WARNING:tensorflow:From /usr/local/lib/python3.6/dist-packages/keras/backend/tensorflow_backend.py:207: The name tf.global_variables is deprecated. Please use tf.compat.v1.global_variables instead.\n",
      "\n",
      "WARNING:tensorflow:From /usr/local/lib/python3.6/dist-packages/keras/backend/tensorflow_backend.py:216: The name tf.is_variable_initialized is deprecated. Please use tf.compat.v1.is_variable_initialized instead.\n",
      "\n",
      "WARNING:tensorflow:From /usr/local/lib/python3.6/dist-packages/keras/backend/tensorflow_backend.py:223: The name tf.variables_initializer is deprecated. Please use tf.compat.v1.variables_initializer instead.\n",
      "\n",
      "WARNING:tensorflow:From /usr/local/lib/python3.6/dist-packages/keras/backend/tensorflow_backend.py:148: The name tf.placeholder_with_default is deprecated. Please use tf.compat.v1.placeholder_with_default instead.\n",
      "\n",
      "WARNING:tensorflow:From /usr/local/lib/python3.6/dist-packages/keras/backend/tensorflow_backend.py:3733: calling dropout (from tensorflow.python.ops.nn_ops) with keep_prob is deprecated and will be removed in a future version.\n",
      "Instructions for updating:\n",
      "Please use `rate` instead of `keep_prob`. Rate should be set to `rate = 1 - keep_prob`.\n",
      "Model: \"sequential_1\"\n",
      "_________________________________________________________________\n",
      "Layer (type)                 Output Shape              Param #   \n",
      "=================================================================\n",
      "embedding_1 (Embedding)      (None, None, 100)         2206300   \n",
      "_________________________________________________________________\n",
      "lstm_1 (LSTM)                (None, 128)               117248    \n",
      "_________________________________________________________________\n",
      "dense_1 (Dense)              (None, 128)               16512     \n",
      "_________________________________________________________________\n",
      "dropout_1 (Dropout)          (None, 128)               0         \n",
      "_________________________________________________________________\n",
      "dense_2 (Dense)              (None, 64)                8256      \n",
      "_________________________________________________________________\n",
      "dropout_2 (Dropout)          (None, 64)                0         \n",
      "_________________________________________________________________\n",
      "dense_3 (Dense)              (None, 32)                2080      \n",
      "_________________________________________________________________\n",
      "dropout_3 (Dropout)          (None, 32)                0         \n",
      "_________________________________________________________________\n",
      "dense_4 (Dense)              (None, 16)                528       \n",
      "_________________________________________________________________\n",
      "dropout_4 (Dropout)          (None, 16)                0         \n",
      "_________________________________________________________________\n",
      "dense_5 (Dense)              (None, 8)                 136       \n",
      "=================================================================\n",
      "Total params: 2,351,060\n",
      "Trainable params: 144,760\n",
      "Non-trainable params: 2,206,300\n",
      "_________________________________________________________________\n",
      "WARNING:tensorflow:From /usr/local/lib/python3.6/dist-packages/keras/optimizers.py:793: The name tf.train.Optimizer is deprecated. Please use tf.compat.v1.train.Optimizer instead.\n",
      "\n",
      "WARNING:tensorflow:From /usr/local/lib/python3.6/dist-packages/keras/backend/tensorflow_backend.py:3657: The name tf.log is deprecated. Please use tf.math.log instead.\n",
      "\n",
      "WARNING:tensorflow:From /usr/local/lib/python3.6/dist-packages/tensorflow_core/python/ops/nn_impl.py:183: where (from tensorflow.python.ops.array_ops) is deprecated and will be removed in a future version.\n",
      "Instructions for updating:\n",
      "Use tf.where in 2.0, which has the same broadcast rule as np.where\n"
     ]
    }
   ],
   "source": [
    "from keras.layers import Embedding,Dense,Dropout,GRU, LSTM\n",
    "from keras.models import Sequential\n",
    "from keras.optimizers import Adam\n",
    "\n",
    "model = Sequential()\n",
    "\n",
    "model.add(Embedding(len(word_index)+1,100,weights=[embedding_matrix],trainable=False))\n",
    "\n",
    "model.add(LSTM(units=128,dropout = 0.5,recurrent_dropout = 0.2))\n",
    "\n",
    "model.add(Dense(units=128,activation='relu'))\n",
    "model.add(Dropout(0.2))\n",
    "\n",
    "model.add(Dense(units=64,activation='relu'))\n",
    "model.add(Dropout(0.2))\n",
    "\n",
    "model.add(Dense(units=32,activation='relu'))\n",
    "model.add(Dropout(0.2))\n",
    "\n",
    "model.add(Dense(units=16,activation='relu'))\n",
    "model.add(Dropout(0.2))\n",
    "\n",
    "model.add(Dense(8,activation=\"sigmoid\"))\n",
    "# output model skeleton\n",
    "opt = Adam(lr = 0.005)\n",
    "model.summary()\n",
    "model.compile(optimizer= opt , loss ='binary_crossentropy',metrics=['accuracy'])"
   ]
  },
  {
   "cell_type": "code",
   "execution_count": 0,
   "metadata": {
    "colab": {},
    "colab_type": "code",
    "id": "1R0bXyBgdGlR"
   },
   "outputs": [],
   "source": [
    "from keras.callbacks import EarlyStopping,ReduceLROnPlateau"
   ]
  },
  {
   "cell_type": "code",
   "execution_count": 28,
   "metadata": {
    "colab": {
     "base_uri": "https://localhost:8080/",
     "height": 34
    },
    "colab_type": "code",
    "id": "X7WS0JlcSfZE",
    "outputId": "67e3e8f4-66f6-4ef1-dce3-622d0fc9c0c3"
   },
   "outputs": [
    {
     "data": {
      "text/plain": [
       "(9000, 424)"
      ]
     },
     "execution_count": 28,
     "metadata": {
      "tags": []
     },
     "output_type": "execute_result"
    }
   ],
   "source": [
    "X_train.shape"
   ]
  },
  {
   "cell_type": "markdown",
   "metadata": {
    "colab_type": "text",
    "id": "XTVtZ8mgtDv7"
   },
   "source": [
    "### **1.2.1 Add monitoring callbacks and start training**"
   ]
  },
  {
   "cell_type": "code",
   "execution_count": 29,
   "metadata": {
    "colab": {
     "base_uri": "https://localhost:8080/",
     "height": 51
    },
    "colab_type": "code",
    "id": "tzBx-qwXKzZx",
    "outputId": "8ed328bc-a462-4b7d-ca6a-378496a981c5"
   },
   "outputs": [
    {
     "name": "stderr",
     "output_type": "stream",
     "text": [
      "/usr/local/lib/python3.6/dist-packages/keras/callbacks.py:1335: UserWarning: `epsilon` argument is deprecated and will be removed, use `min_delta` instead.\n",
      "  warnings.warn('`epsilon` argument is deprecated and '\n"
     ]
    }
   ],
   "source": [
    "early_stopping = EarlyStopping(monitor='acc', patience=6, verbose=0, mode='max')\n",
    "rop = ReduceLROnPlateau(monitor='acc', factor=0.1, patience=3, verbose=1, epsilon=1e-4, mode='max')\n",
    "call = [early_stopping, rop]\n"
   ]
  },
  {
   "cell_type": "markdown",
   "metadata": {
    "colab_type": "text",
    "id": "7Hc0UfGWm-XI"
   },
   "source": [
    "###**1.2.2 Start Training**"
   ]
  },
  {
   "cell_type": "code",
   "execution_count": 30,
   "metadata": {
    "colab": {
     "base_uri": "https://localhost:8080/",
     "height": 850
    },
    "colab_type": "code",
    "id": "RswMX0NXm6fr",
    "outputId": "8ce8f1e0-5094-4660-9e93-c9d5d4d84c4a"
   },
   "outputs": [
    {
     "name": "stdout",
     "output_type": "stream",
     "text": [
      "WARNING:tensorflow:From /usr/local/lib/python3.6/dist-packages/keras/backend/tensorflow_backend.py:1033: The name tf.assign_add is deprecated. Please use tf.compat.v1.assign_add instead.\n",
      "\n",
      "WARNING:tensorflow:From /usr/local/lib/python3.6/dist-packages/keras/backend/tensorflow_backend.py:1020: The name tf.assign is deprecated. Please use tf.compat.v1.assign instead.\n",
      "\n",
      "Train on 8280 samples, validate on 720 samples\n",
      "Epoch 1/22\n",
      "8280/8280 [==============================] - 22s 3ms/step - loss: 0.5118 - acc: 0.7459 - val_loss: 0.3859 - val_acc: 0.8293\n",
      "Epoch 2/22\n",
      "8280/8280 [==============================] - 20s 2ms/step - loss: 0.3970 - acc: 0.8229 - val_loss: 0.3360 - val_acc: 0.8549\n",
      "Epoch 3/22\n",
      "8280/8280 [==============================] - 20s 2ms/step - loss: 0.3642 - acc: 0.8375 - val_loss: 0.3260 - val_acc: 0.8503\n",
      "Epoch 4/22\n",
      "8280/8280 [==============================] - 19s 2ms/step - loss: 0.3513 - acc: 0.8441 - val_loss: 0.3238 - val_acc: 0.8580\n",
      "Epoch 5/22\n",
      "8280/8280 [==============================] - 19s 2ms/step - loss: 0.3387 - acc: 0.8471 - val_loss: 0.3069 - val_acc: 0.8576\n",
      "Epoch 6/22\n",
      "8280/8280 [==============================] - 19s 2ms/step - loss: 0.3289 - acc: 0.8512 - val_loss: 0.2991 - val_acc: 0.8632\n",
      "Epoch 7/22\n",
      "8280/8280 [==============================] - 19s 2ms/step - loss: 0.3187 - acc: 0.8557 - val_loss: 0.2893 - val_acc: 0.8705\n",
      "Epoch 8/22\n",
      "8280/8280 [==============================] - 19s 2ms/step - loss: 0.3137 - acc: 0.8614 - val_loss: 0.2821 - val_acc: 0.8776\n",
      "Epoch 9/22\n",
      "8280/8280 [==============================] - 19s 2ms/step - loss: 0.3032 - acc: 0.8668 - val_loss: 0.2725 - val_acc: 0.8788\n",
      "Epoch 10/22\n",
      "8280/8280 [==============================] - 19s 2ms/step - loss: 0.2978 - acc: 0.8720 - val_loss: 0.2688 - val_acc: 0.8844\n",
      "Epoch 11/22\n",
      "8280/8280 [==============================] - 19s 2ms/step - loss: 0.2922 - acc: 0.8746 - val_loss: 0.2585 - val_acc: 0.8906\n",
      "Epoch 12/22\n",
      "8280/8280 [==============================] - 20s 2ms/step - loss: 0.2871 - acc: 0.8768 - val_loss: 0.2564 - val_acc: 0.8910\n",
      "Epoch 13/22\n",
      "8280/8280 [==============================] - 20s 2ms/step - loss: 0.2840 - acc: 0.8788 - val_loss: 0.2519 - val_acc: 0.8948\n",
      "Epoch 14/22\n",
      "8280/8280 [==============================] - 19s 2ms/step - loss: 0.2797 - acc: 0.8807 - val_loss: 0.2513 - val_acc: 0.8917\n",
      "Epoch 15/22\n",
      "8280/8280 [==============================] - 19s 2ms/step - loss: 0.2782 - acc: 0.8819 - val_loss: 0.2494 - val_acc: 0.8934\n",
      "Epoch 16/22\n",
      "8280/8280 [==============================] - 19s 2ms/step - loss: 0.2725 - acc: 0.8843 - val_loss: 0.2483 - val_acc: 0.8929\n",
      "Epoch 17/22\n",
      "8280/8280 [==============================] - 19s 2ms/step - loss: 0.2732 - acc: 0.8854 - val_loss: 0.2512 - val_acc: 0.8932\n",
      "Epoch 18/22\n",
      "8280/8280 [==============================] - 19s 2ms/step - loss: 0.2679 - acc: 0.8869 - val_loss: 0.2479 - val_acc: 0.8939\n",
      "Epoch 19/22\n",
      "8280/8280 [==============================] - 18s 2ms/step - loss: 0.2675 - acc: 0.8865 - val_loss: 0.2472 - val_acc: 0.8953\n",
      "Epoch 20/22\n",
      "8280/8280 [==============================] - 18s 2ms/step - loss: 0.2665 - acc: 0.8875 - val_loss: 0.2444 - val_acc: 0.8974\n",
      "Epoch 21/22\n",
      "8280/8280 [==============================] - 19s 2ms/step - loss: 0.2625 - acc: 0.8895 - val_loss: 0.2433 - val_acc: 0.8995\n",
      "Epoch 22/22\n",
      "8280/8280 [==============================] - 19s 2ms/step - loss: 0.2613 - acc: 0.8898 - val_loss: 0.2441 - val_acc: 0.8986\n"
     ]
    }
   ],
   "source": [
    "history = model.fit(X_train,y_train_t,batch_size= 256,epochs = 22,validation_split=0.08,callbacks=call)"
   ]
  },
  {
   "cell_type": "markdown",
   "metadata": {
    "colab_type": "text",
    "id": "brcys9hgtOCp"
   },
   "source": [
    "## **1.3 Evaluate the model on test data**"
   ]
  },
  {
   "cell_type": "code",
   "execution_count": 31,
   "metadata": {
    "colab": {
     "base_uri": "https://localhost:8080/",
     "height": 51
    },
    "colab_type": "code",
    "id": "h49fxLyqOMDY",
    "outputId": "0cc15ba5-7a1b-44f6-9970-5a64e5955da0"
   },
   "outputs": [
    {
     "name": "stdout",
     "output_type": "stream",
     "text": [
      "1000/1000 [==============================] - 4s 4ms/step\n"
     ]
    },
    {
     "data": {
      "text/plain": [
       "[0.25550242137908935, 0.8955]"
      ]
     },
     "execution_count": 31,
     "metadata": {
      "tags": []
     },
     "output_type": "execute_result"
    }
   ],
   "source": [
    "model.evaluate(X_test,y_test_t)"
   ]
  },
  {
   "cell_type": "markdown",
   "metadata": {
    "colab_type": "text",
    "id": "zlFiPoMWCT9l"
   },
   "source": [
    "Plot loss and accuracy graphs"
   ]
  },
  {
   "cell_type": "code",
   "execution_count": 32,
   "metadata": {
    "colab": {
     "base_uri": "https://localhost:8080/",
     "height": 312
    },
    "colab_type": "code",
    "id": "_kk72tRgC092",
    "outputId": "4485c9e3-4777-4a17-b11d-53830b481042"
   },
   "outputs": [
    {
     "data": {
      "text/plain": [
       "<matplotlib.legend.Legend at 0x7f580419dc88>"
      ]
     },
     "execution_count": 32,
     "metadata": {
      "tags": []
     },
     "output_type": "execute_result"
    },
    {
     "data": {
      "image/png": "[encoded data removed]",
      "text/plain": [
       "<Figure size 432x288 with 1 Axes>"
      ]
     },
     "metadata": {
      "tags": []
     },
     "output_type": "display_data"
    }
   ],
   "source": [
    "import matplotlib.pyplot as plt\n",
    "%matplotlib inline\n",
    "history_dict = history.history\n",
    "loss_values = history_dict['loss'] \n",
    "val_loss_values = history_dict['val_loss']\n",
    "epochs = range(1, len(loss_values) + 1)\n",
    "plt.plot(epochs, loss_values, 'r', label='Training loss') \n",
    "plt.plot(epochs, val_loss_values, 'b', label='Validation loss') \n",
    "plt.title('Training vs. validation loss')\n",
    "plt.xlabel('Epochs')\n",
    "plt.ylabel('Loss')\n",
    "plt.legend()"
   ]
  },
  {
   "cell_type": "code",
   "execution_count": 33,
   "metadata": {
    "colab": {
     "base_uri": "https://localhost:8080/",
     "height": 312
    },
    "colab_type": "code",
    "id": "OW5OPiLdC0-A",
    "outputId": "cb24cc0c-fe75-4d4a-a4da-6c99e03c4ae9"
   },
   "outputs": [
    {
     "data": {
      "text/plain": [
       "<matplotlib.legend.Legend at 0x7f5804115fd0>"
      ]
     },
     "execution_count": 33,
     "metadata": {
      "tags": []
     },
     "output_type": "execute_result"
    },
    {
     "data": {
      "image/png": "[encoded data removed]",
      "text/plain": [
       "<Figure size 432x288 with 1 Axes>"
      ]
     },
     "metadata": {
      "tags": []
     },
     "output_type": "display_data"
    }
   ],
   "source": [
    "#Plot Accuracy\n",
    "history_dict = history.history\n",
    "acc_values = history_dict['acc'] \n",
    "val_acc_values = history_dict['val_acc']\n",
    "epochs = range(1, len(acc_values) + 1)\n",
    "plt.plot(epochs, acc_values, 'r', label='Training Accuracy') \n",
    "plt.plot(epochs, val_acc_values, 'b', label='Validation Accuracy') \n",
    "plt.title('Training vs. validation Accuracy')\n",
    "plt.xlabel('Epochs')\n",
    "plt.ylabel('Accuracy') \n",
    "plt.legend()"
   ]
  },
  {
   "cell_type": "code",
   "execution_count": 0,
   "metadata": {
    "colab": {},
    "colab_type": "code",
    "id": "KUJ56VfqC0-G"
   },
   "outputs": [],
   "source": [
    "y_pred = model.predict(X_test)"
   ]
  },
  {
   "cell_type": "code",
   "execution_count": 0,
   "metadata": {
    "colab": {},
    "colab_type": "code",
    "id": "Wzsp6KI9C0-J"
   },
   "outputs": [],
   "source": [
    "y_pred_norm = [[1 if val >= 0.5 else 0 for val in pred]for pred in y_pred]"
   ]
  },
  {
   "cell_type": "markdown",
   "metadata": {
    "colab_type": "text",
    "id": "WBGoku6fwaLI"
   },
   "source": [
    "## **1.4 Classification Evaluation**"
   ]
  },
  {
   "cell_type": "markdown",
   "metadata": {
    "colab_type": "text",
    "id": "neWWrsZqwj5U"
   },
   "source": [
    "Since this is multilabel classification problem, we can not simply calculate the accuracy, precision, recall and F1 score. The prediction for a multilable classification problem is a set of labels and therefore the prediction could be fully correct, partially correct or fully incorrect. None of the matrices amongst precision, recall and F1 score caputures this notion in their original form. [1] \n",
    "\n",
    "Therefore, I use three different matrices along with precision, recall and F1 score to evaluate our multilable classifier. These are following:\n",
    "\n",
    "1. Jaccard Score: Jaccard score is defined as the size of the intersection divided by the size of the union of two label sets. It is used to compare set of predicted labels for a sample to the corresponding set of labels.[2]\n",
    ">>$J(y_i, \\hat{y}_i) = \\frac{|y_i \\cap \\hat{y}_i|}{|y_i \\cup \\hat{y}_i|}$\n",
    "\n",
    "2. Subset Accuracy: In multilabel classification, this function computes subset accuracy: the set of labels predicted for a sample must exactly match the corresponding set of labels in y_true.[2]\n",
    ">>$accuracy(y, \\hat{y}) = \\frac{1}{n_\\text{samples}} \\sum_{i=0}^{n_\\text{samples}-1} 1(\\hat{y}_i = y_i)$\n",
    "3. Hamming Loss: If $\\hat{y}_j$\n",
    " is the predicted value for the $j$-th label of a given sample, \n",
    " is the corresponding true value, and \n",
    " is the number of classes or labels, then the Hamming loss  between two samples is defined as:[1]\n",
    " >>$L_{Hamming}(y, \\hat{y}) = \\frac{1}{n_\\text{labels}} \\sum_{j=0}^{n_\\text{labels} - 1} 1(\\hat{y}_j \\not= y_j)$\n",
    "4. $Precision=\\frac{1}{\\left|S\\right|} \\sum_{s \\in S} P(y_s, \\hat{y}_s)$\n",
    "5. $Recall=\\frac{1}{\\left|S\\right|} \\sum_{s \\in S} R(y_s, \\hat{y}_s)$\n",
    "6. $F1 Score=\\frac{1}{\\left|S\\right|} \\sum_{s \\in S} F_\\beta(y_s, \\hat{y}_s)$\n",
    "Where,\n",
    "\n",
    ">$S$ is the set of samples\n",
    "\n",
    ">$y_s$ the subset of $y$ with sample $s$, i.e. $y_s := \\left\\{(s', l) \\in y | s' = s\\right\\}$\n",
    "\n",
    ">$\\hat{y_s}$ is subset of $\\hat{y}$\n",
    "\n",
    ">$P(A, B) := \\frac{\\left| A \\cap B \\right|}{\\left|A\\right|}$ for some sets $A$ and $B$\n",
    "\n",
    ">$R(A, B) := \\frac{\\left| A \\cap B \\right|}{\\left|B\\right|}$ (Conventions vary on handling $B = \\emptyset$; this implementation uses $R(A, B):=0$, and similar for $P$.)\n",
    "\n",
    "In multiclass and multilabel classification task, the notions of precision, recall, and F-measures can be applied to each label independently.[2]\n",
    "\n",
    "\n",
    "\n",
    "[1]  Sorower, Mohammad S. \"A literature survey on algorithms for multi-label learning.\" Oregon State University, Corvallis (2010).\n",
    "\n",
    "[2] Scikit-learn: Machine Learning in Python, Pedregosa et al., JMLR 12, pp. 2825-2830, 2011.\n"
   ]
  },
  {
   "cell_type": "code",
   "execution_count": 0,
   "metadata": {
    "colab": {},
    "colab_type": "code",
    "id": "eaoaiVWyC0-M"
   },
   "outputs": [],
   "source": [
    "from sklearn.metrics import precision_score, recall_score,f1_score, accuracy_score, hamming_loss, multilabel_confusion_matrix, jaccard_score, classification_report"
   ]
  },
  {
   "cell_type": "code",
   "execution_count": 37,
   "metadata": {
    "colab": {
     "base_uri": "https://localhost:8080/",
     "height": 173
    },
    "colab_type": "code",
    "id": "LScA8oUXC0-Q",
    "outputId": "53c96a4f-fee2-4341-dc65-5cc0322be36f"
   },
   "outputs": [
    {
     "name": "stdout",
     "output_type": "stream",
     "text": [
      "Jaccard Similarity Score : 0.5623\n",
      "Subset Accuracy : 0.4420\n",
      "Hamming Loss : 0.1045\n",
      "Precision: 0.6605\n",
      "Recall   : 0.5925\n",
      "F1-Score : 0.6039\n"
     ]
    },
    {
     "name": "stderr",
     "output_type": "stream",
     "text": [
      "/usr/local/lib/python3.6/dist-packages/sklearn/metrics/_classification.py:1272: UndefinedMetricWarning: Precision is ill-defined and being set to 0.0 in samples with no predicted labels. Use `zero_division` parameter to control this behavior.\n",
      "  _warn_prf(average, modifier, msg_start, len(result))\n"
     ]
    }
   ],
   "source": [
    "print(\"Jaccard Similarity Score : {:.4f}\".format(jaccard_score(y_test_t, y_pred_norm,average='samples')))\n",
    "print(\"Subset Accuracy : {:.4f}\".format(accuracy_score(y_test_t, y_pred_norm)))\n",
    "print(\"Hamming Loss : {:.4f}\".format(hamming_loss(y_test_t,y_pred_norm)))\n",
    "print(\"Precision: {:.4f}\".format(precision_score(y_test_t, y_pred_norm, average='samples')))\n",
    "print(\"Recall   : {:.4f}\".format(recall_score(y_test_t, y_pred_norm, average='samples')))\n",
    "print(\"F1-Score : {:.4f}\".format(f1_score(y_test_t, y_pred_norm, average='samples')))"
   ]
  },
  {
   "cell_type": "code",
   "execution_count": 38,
   "metadata": {
    "colab": {
     "base_uri": "https://localhost:8080/",
     "height": 377
    },
    "colab_type": "code",
    "id": "EaT3CEsDChfB",
    "outputId": "acccf726-733d-42ee-987f-e4e1599866e6"
   },
   "outputs": [
    {
     "name": "stdout",
     "output_type": "stream",
     "text": [
      "              precision    recall  f1-score   support\n",
      "\n",
      "           0       0.75      0.67      0.71       176\n",
      "           1       0.00      0.00      0.00       178\n",
      "           2       0.77      0.68      0.72       138\n",
      "           3       0.00      0.00      0.00         6\n",
      "           4       0.00      0.00      0.00        28\n",
      "           5       0.64      0.25      0.36        92\n",
      "           6       0.82      0.61      0.70       383\n",
      "           7       0.81      0.71      0.76       373\n",
      "\n",
      "   micro avg       0.79      0.53      0.64      1374\n",
      "   macro avg       0.47      0.37      0.41      1374\n",
      "weighted avg       0.67      0.53      0.59      1374\n",
      " samples avg       0.66      0.59      0.60      1374\n",
      "\n"
     ]
    },
    {
     "name": "stderr",
     "output_type": "stream",
     "text": [
      "/usr/local/lib/python3.6/dist-packages/sklearn/metrics/_classification.py:1272: UndefinedMetricWarning: Precision and F-score are ill-defined and being set to 0.0 in labels with no predicted samples. Use `zero_division` parameter to control this behavior.\n",
      "  _warn_prf(average, modifier, msg_start, len(result))\n",
      "/usr/local/lib/python3.6/dist-packages/sklearn/metrics/_classification.py:1272: UndefinedMetricWarning: Precision and F-score are ill-defined and being set to 0.0 in samples with no predicted labels. Use `zero_division` parameter to control this behavior.\n",
      "  _warn_prf(average, modifier, msg_start, len(result))\n"
     ]
    }
   ],
   "source": [
    "print(classification_report(y_test_t,y_pred_norm))"
   ]
  },
  {
   "cell_type": "markdown",
   "metadata": {
    "colab_type": "text",
    "id": "nGGclLvT-NSX"
   },
   "source": [
    "#**2. Fine Tuning BERT using Keras-Bert wrapper.**"
   ]
  },
  {
   "cell_type": "code",
   "execution_count": 39,
   "metadata": {
    "colab": {
     "base_uri": "https://localhost:8080/",
     "height": 921
    },
    "colab_type": "code",
    "id": "8qikR-Mnoefh",
    "outputId": "63746cbf-6444-477c-b8c8-21196fd8c7ee"
   },
   "outputs": [
    {
     "name": "stdout",
     "output_type": "stream",
     "text": [
      "Collecting keras-bert\n",
      "  Downloading https://files.pythonhosted.org/packages/2c/0f/cdc886c1018943ea62d3209bc964413d5aa9d0eb7e493abd8545be679294/keras-bert-0.81.0.tar.gz\n",
      "Requirement already satisfied: numpy in /usr/local/lib/python3.6/dist-packages (from keras-bert) (1.17.5)\n",
      "Requirement already satisfied: Keras in /usr/local/lib/python3.6/dist-packages (from keras-bert) (2.2.5)\n",
      "Collecting keras-transformer>=0.30.0\n",
      "  Downloading https://files.pythonhosted.org/packages/54/0c/fede535ac576c03863c44bf2e0bf051fe21f5e10103631b6b6236ae446f3/keras-transformer-0.32.0.tar.gz\n",
      "Requirement already satisfied: six>=1.9.0 in /usr/local/lib/python3.6/dist-packages (from Keras->keras-bert) (1.12.0)\n",
      "Requirement already satisfied: pyyaml in /usr/local/lib/python3.6/dist-packages (from Keras->keras-bert) (3.13)\n",
      "Requirement already satisfied: h5py in /usr/local/lib/python3.6/dist-packages (from Keras->keras-bert) (2.8.0)\n",
      "Requirement already satisfied: keras-applications>=1.0.8 in /usr/local/lib/python3.6/dist-packages (from Keras->keras-bert) (1.0.8)\n",
      "Requirement already satisfied: scipy>=0.14 in /usr/local/lib/python3.6/dist-packages (from Keras->keras-bert) (1.4.1)\n",
      "Requirement already satisfied: keras-preprocessing>=1.1.0 in /usr/local/lib/python3.6/dist-packages (from Keras->keras-bert) (1.1.0)\n",
      "Collecting keras-pos-embd>=0.10.0\n",
      "  Downloading https://files.pythonhosted.org/packages/09/70/b63ed8fc660da2bb6ae29b9895401c628da5740c048c190b5d7107cadd02/keras-pos-embd-0.11.0.tar.gz\n",
      "Collecting keras-multi-head>=0.22.0\n",
      "  Downloading https://files.pythonhosted.org/packages/40/3e/d0a64bb2ac5217928effe4507c26bbd19b86145d16a1948bc2d4f4c6338a/keras-multi-head-0.22.0.tar.gz\n",
      "Collecting keras-layer-normalization>=0.12.0\n",
      "  Downloading https://files.pythonhosted.org/packages/a4/0e/d1078df0494bac9ce1a67954e5380b6e7569668f0f3b50a9531c62c1fc4a/keras-layer-normalization-0.14.0.tar.gz\n",
      "Collecting keras-position-wise-feed-forward>=0.5.0\n",
      "  Downloading https://files.pythonhosted.org/packages/e3/59/f0faa1037c033059e7e9e7758e6c23b4d1c0772cd48de14c4b6fd4033ad5/keras-position-wise-feed-forward-0.6.0.tar.gz\n",
      "Collecting keras-embed-sim>=0.7.0\n",
      "  Downloading https://files.pythonhosted.org/packages/bc/20/735fd53f6896e2af63af47e212601c1b8a7a80d00b6126c388c9d1233892/keras-embed-sim-0.7.0.tar.gz\n",
      "Collecting keras-self-attention==0.41.0\n",
      "  Downloading https://files.pythonhosted.org/packages/1b/1c/01599219bef7266fa43b3316e4f55bcb487734d3bafdc60ffd564f3cfe29/keras-self-attention-0.41.0.tar.gz\n",
      "Building wheels for collected packages: keras-bert, keras-transformer, keras-pos-embd, keras-multi-head, keras-layer-normalization, keras-position-wise-feed-forward, keras-embed-sim, keras-self-attention\n",
      "  Building wheel for keras-bert (setup.py) ... \u001b[?25l\u001b[?25hdone\n",
      "  Created wheel for keras-bert: filename=keras_bert-0.81.0-cp36-none-any.whl size=37913 sha256=f77e00e050867ca464375fa500849d667ae0610f0e530db35b6077cfe70c3ad2\n",
      "  Stored in directory: /root/.cache/pip/wheels/bd/27/da/ffc2d573aa48b87440ec4f98bc7c992e3a2d899edb2d22ef9e\n",
      "  Building wheel for keras-transformer (setup.py) ... \u001b[?25l\u001b[?25hdone\n",
      "  Created wheel for keras-transformer: filename=keras_transformer-0.32.0-cp36-none-any.whl size=13266 sha256=079bd739fd1727f55a55207713f0d09997e5d083d01bd4acdda2203f8ad47191\n",
      "  Stored in directory: /root/.cache/pip/wheels/62/f0/ce/82fa5d024d5ef8e263f26a50dcee23820efe245680ce9c922a\n",
      "  Building wheel for keras-pos-embd (setup.py) ... \u001b[?25l\u001b[?25hdone\n",
      "  Created wheel for keras-pos-embd: filename=keras_pos_embd-0.11.0-cp36-none-any.whl size=7553 sha256=25a82ba1bb4a843bc6d23b5c8977796376aa38fc56dae25d5a180905085ed1f2\n",
      "  Stored in directory: /root/.cache/pip/wheels/5b/a1/a0/ce6b1d49ba1a9a76f592e70cf297b05c96bc9f418146761032\n",
      "  Building wheel for keras-multi-head (setup.py) ... \u001b[?25l\u001b[?25hdone\n",
      "  Created wheel for keras-multi-head: filename=keras_multi_head-0.22.0-cp36-none-any.whl size=15371 sha256=ee692d8b928a9a8b73d3c01ad9d8326cba9ab1e99eb30c966877a0cec4f480b8\n",
      "  Stored in directory: /root/.cache/pip/wheels/bb/df/3f/81b36f41b66e6a9cd69224c70a737de2bb6b2f7feb3272c25e\n",
      "  Building wheel for keras-layer-normalization (setup.py) ... \u001b[?25l\u001b[?25hdone\n",
      "  Created wheel for keras-layer-normalization: filename=keras_layer_normalization-0.14.0-cp36-none-any.whl size=5268 sha256=f35faee696809e4d882d3ac0b31e0b6b33599f6b2cab5f2c87a0ef8cb2fb148d\n",
      "  Stored in directory: /root/.cache/pip/wheels/54/80/22/a638a7d406fd155e507aa33d703e3fa2612b9eb7bb4f4fe667\n",
      "  Building wheel for keras-position-wise-feed-forward (setup.py) ... \u001b[?25l\u001b[?25hdone\n",
      "  Created wheel for keras-position-wise-feed-forward: filename=keras_position_wise_feed_forward-0.6.0-cp36-none-any.whl size=5624 sha256=6eeb2776bacbc3c4031ac47dedb5ce2bcc0cd83cff1750d4b00b557e93b145cc\n",
      "  Stored in directory: /root/.cache/pip/wheels/39/e2/e2/3514fef126a00574b13bc0b9e23891800158df3a3c19c96e3b\n",
      "  Building wheel for keras-embed-sim (setup.py) ... \u001b[?25l\u001b[?25hdone\n",
      "  Created wheel for keras-embed-sim: filename=keras_embed_sim-0.7.0-cp36-none-any.whl size=4676 sha256=1274cb3dddbba2f8464fe62de7de091fc4b61423486e3ef1c0b551d3a89ce5ef\n",
      "  Stored in directory: /root/.cache/pip/wheels/d1/bc/b1/b0c45cee4ca2e6c86586b0218ffafe7f0703c6d07fdf049866\n",
      "  Building wheel for keras-self-attention (setup.py) ... \u001b[?25l\u001b[?25hdone\n",
      "  Created wheel for keras-self-attention: filename=keras_self_attention-0.41.0-cp36-none-any.whl size=17290 sha256=a8745b2d92e3546b51a0e94ef7afaa4970065ea15c0d11c4a08aed7247dfc867\n",
      "  Stored in directory: /root/.cache/pip/wheels/cc/dc/17/84258b27a04cd38ac91998abe148203720ca696186635db694\n",
      "Successfully built keras-bert keras-transformer keras-pos-embd keras-multi-head keras-layer-normalization keras-position-wise-feed-forward keras-embed-sim keras-self-attention\n",
      "Installing collected packages: keras-pos-embd, keras-self-attention, keras-multi-head, keras-layer-normalization, keras-position-wise-feed-forward, keras-embed-sim, keras-transformer, keras-bert\n",
      "Successfully installed keras-bert-0.81.0 keras-embed-sim-0.7.0 keras-layer-normalization-0.14.0 keras-multi-head-0.22.0 keras-pos-embd-0.11.0 keras-position-wise-feed-forward-0.6.0 keras-self-attention-0.41.0 keras-transformer-0.32.0\n"
     ]
    }
   ],
   "source": [
    "!pip install keras-bert"
   ]
  },
  {
   "cell_type": "code",
   "execution_count": 0,
   "metadata": {
    "colab": {},
    "colab_type": "code",
    "id": "q90SlEwMSARN"
   },
   "outputs": [],
   "source": [
    "from keras_bert import load_trained_model_from_checkpoint, load_vocabulary, Tokenizer,AdamWarmup, calc_train_steps"
   ]
  },
  {
   "cell_type": "markdown",
   "metadata": {
    "colab_type": "text",
    "id": "JjheL3Nl-3_a"
   },
   "source": [
    "Load pretrained model from drive. \n",
    "Here, I am using [BERT-Base, Uncased: 12-layer, 768-hidden, 12-heads, 110M parameters]$^1$\n",
    "\n",
    "$^1$https://storage.googleapis.com/bert_models/2018_10_18/uncased_L-12_H-768_A-12.zip"
   ]
  },
  {
   "cell_type": "code",
   "execution_count": 0,
   "metadata": {
    "colab": {},
    "colab_type": "code",
    "id": "em9AsJ3uTayo"
   },
   "outputs": [],
   "source": [
    "#GET VOCABULARY LIST\n",
    "import os\n",
    "BERT_DIR = '/content/drive/My Drive/Colab Notebooks/Seminar Work/bert_uncased'\n",
    "VOCAB_PATH = os.path.join(BERT_DIR,'vocab.txt')\n",
    "vocab_ = load_vocabulary(vocab_path=VOCAB_PATH)"
   ]
  },
  {
   "cell_type": "code",
   "execution_count": 0,
   "metadata": {
    "colab": {},
    "colab_type": "code",
    "id": "Uo8AkHgDTnc2"
   },
   "outputs": [],
   "source": [
    "tokenizer = Tokenizer(vocab_)"
   ]
  },
  {
   "cell_type": "markdown",
   "metadata": {
    "colab_type": "text",
    "id": "qX63ThlriY4s"
   },
   "source": [
    "##**2.1 Data Preprocessing**"
   ]
  },
  {
   "cell_type": "markdown",
   "metadata": {
    "colab_type": "text",
    "id": "plDaWHbZYBts"
   },
   "source": [
    "###**2.1.1Merge titles with abstracts**"
   ]
  },
  {
   "cell_type": "code",
   "execution_count": 0,
   "metadata": {
    "colab": {},
    "colab_type": "code",
    "id": "byVe9ZPXU9Wu"
   },
   "outputs": [],
   "source": [
    "abstracts = df.Abstract.values\n",
    "titles = df.Title.values"
   ]
  },
  {
   "cell_type": "code",
   "execution_count": 0,
   "metadata": {
    "colab": {},
    "colab_type": "code",
    "id": "H2nk7dF6XG6F"
   },
   "outputs": [],
   "source": [
    "for i in range(len(abstracts)):\n",
    "  abstracts[i] = titles[i] + ' : ' + abstracts[i]"
   ]
  },
  {
   "cell_type": "code",
   "execution_count": 0,
   "metadata": {
    "colab": {},
    "colab_type": "code",
    "id": "I3UCNJZsXlZl"
   },
   "outputs": [],
   "source": [
    "df.Abstract = abstracts"
   ]
  },
  {
   "cell_type": "code",
   "execution_count": 46,
   "metadata": {
    "colab": {
     "base_uri": "https://localhost:8080/",
     "height": 204
    },
    "colab_type": "code",
    "id": "mvhtDy1lYqp5",
    "outputId": "5ad13f87-52f5-4d49-e67b-a3007829c924"
   },
   "outputs": [
    {
     "data": {
      "text/html": [
       "<div>\n",
       "<style scoped>\n",
       "    .dataframe tbody tr th:only-of-type {\n",
       "        vertical-align: middle;\n",
       "    }\n",
       "\n",
       "    .dataframe tbody tr th {\n",
       "        vertical-align: top;\n",
       "    }\n",
       "\n",
       "    .dataframe thead th {\n",
       "        text-align: right;\n",
       "    }\n",
       "</style>\n",
       "<table border=\"1\" class=\"dataframe\">\n",
       "  <thead>\n",
       "    <tr style=\"text-align: right;\">\n",
       "      <th></th>\n",
       "      <th>Unnamed: 0</th>\n",
       "      <th>Subclass_labels</th>\n",
       "      <th>Abstract</th>\n",
       "      <th>Title</th>\n",
       "      <th>No</th>\n",
       "    </tr>\n",
       "  </thead>\n",
       "  <tbody>\n",
       "    <tr>\n",
       "      <th>6676</th>\n",
       "      <td>6676</td>\n",
       "      <td>(A,)</td>\n",
       "      <td>metal detector digging tool apparatus : metal ...</td>\n",
       "      <td>metal detector digging tool apparatus</td>\n",
       "      <td>US08931816</td>\n",
       "    </tr>\n",
       "    <tr>\n",
       "      <th>6421</th>\n",
       "      <td>6421</td>\n",
       "      <td>(E,)</td>\n",
       "      <td>auxiliary subsurface compensator : auxiliary s...</td>\n",
       "      <td>auxiliary subsurface compensator</td>\n",
       "      <td>US08931563</td>\n",
       "    </tr>\n",
       "    <tr>\n",
       "      <th>9834</th>\n",
       "      <td>9834</td>\n",
       "      <td>(A, B)</td>\n",
       "      <td>method and system for hand presence detection ...</td>\n",
       "      <td>method and system for hand presence detection ...</td>\n",
       "      <td>US08935003</td>\n",
       "    </tr>\n",
       "    <tr>\n",
       "      <th>8492</th>\n",
       "      <td>8492</td>\n",
       "      <td>(H,)</td>\n",
       "      <td>dimmable led lamp : dimmable led lamp : a driv...</td>\n",
       "      <td>dimmable led lamp</td>\n",
       "      <td>US08933642</td>\n",
       "    </tr>\n",
       "    <tr>\n",
       "      <th>9982</th>\n",
       "      <td>9982</td>\n",
       "      <td>(G,)</td>\n",
       "      <td>system and method for examining concurrent sys...</td>\n",
       "      <td>system and method for examining concurrent sys...</td>\n",
       "      <td>US08935144</td>\n",
       "    </tr>\n",
       "  </tbody>\n",
       "</table>\n",
       "</div>"
      ],
      "text/plain": [
       "      Unnamed: 0  ...          No\n",
       "6676        6676  ...  US08931816\n",
       "6421        6421  ...  US08931563\n",
       "9834        9834  ...  US08935003\n",
       "8492        8492  ...  US08933642\n",
       "9982        9982  ...  US08935144\n",
       "\n",
       "[5 rows x 5 columns]"
      ]
     },
     "execution_count": 46,
     "metadata": {
      "tags": []
     },
     "output_type": "execute_result"
    }
   ],
   "source": [
    "df.head()"
   ]
  },
  {
   "cell_type": "markdown",
   "metadata": {
    "colab_type": "text",
    "id": "gA_o2HHl_kDF"
   },
   "source": [
    "###**2.1.2 Split data into 10% test and 90% training set**"
   ]
  },
  {
   "cell_type": "code",
   "execution_count": 0,
   "metadata": {
    "colab": {},
    "colab_type": "code",
    "id": "e0_Kjii6hqTO"
   },
   "outputs": [],
   "source": [
    "from sklearn.model_selection import train_test_split\n",
    "X_train, X_test, y_train, y_test = train_test_split(df.Abstract.values,df['Subclass_labels'].values,test_size=0.1,random_state=101)"
   ]
  },
  {
   "cell_type": "code",
   "execution_count": 0,
   "metadata": {
    "colab": {},
    "colab_type": "code",
    "id": "CqirO4xGQ-ig"
   },
   "outputs": [],
   "source": [
    "SEQ_LEN = 64"
   ]
  },
  {
   "cell_type": "code",
   "execution_count": 0,
   "metadata": {
    "colab": {},
    "colab_type": "code",
    "id": "4vx5ghsSKYJM"
   },
   "outputs": [],
   "source": [
    "import numpy as np"
   ]
  },
  {
   "cell_type": "markdown",
   "metadata": {
    "colab_type": "text",
    "id": "0CA-9wVsiyz6"
   },
   "source": [
    "##**2.2 Feature Extraction**"
   ]
  },
  {
   "cell_type": "markdown",
   "metadata": {
    "colab_type": "text",
    "id": "LeaT-y1P_vBq"
   },
   "source": [
    "###**2.2.1 Converting data into features**"
   ]
  },
  {
   "cell_type": "code",
   "execution_count": 0,
   "metadata": {
    "colab": {},
    "colab_type": "code",
    "id": "yLE_Ov1VcMZN"
   },
   "outputs": [],
   "source": [
    "def setup_training_data(training_set, labels):\n",
    "  indices = []\n",
    "  targets = []\n",
    "  MAX_SEQ_LEN = SEQ_LEN\n",
    "  for i in range(len(training_set)):\n",
    "    ids, segments = tokenizer.encode(training_set[i],max_len=MAX_SEQ_LEN)\n",
    "    indices.append(ids)\n",
    "    targets.append(labels[i])\n",
    "    items = list(zip(indices, targets))\n",
    "  np.random.shuffle(items)\n",
    "  indices, targets = zip(*items)\n",
    "  indices = np.array(indices)\n",
    "  return [indices, np.zeros_like(indices)], np.array(targets)"
   ]
  },
  {
   "cell_type": "markdown",
   "metadata": {
    "colab_type": "text",
    "id": "-3xGj1kD_zEk"
   },
   "source": [
    "Further spliting training data into training and validation set"
   ]
  },
  {
   "cell_type": "code",
   "execution_count": 0,
   "metadata": {
    "colab": {},
    "colab_type": "code",
    "id": "6U6Q_5WadjNz"
   },
   "outputs": [],
   "source": [
    "def train_validation_split(data,labels):\n",
    "  data_train = []\n",
    "  data_train.append(data[0][150:])\n",
    "  data_train.append(data[1][150:])\n",
    "\n",
    "  data_val = []\n",
    "  data_val.append(data[0][:150])\n",
    "  data_val.append(data[1][:150])\n",
    "  labels_train = labels[150:]\n",
    "  labels_val = labels[:150]\n",
    "  return data_train, data_val, labels_train, labels_val"
   ]
  },
  {
   "cell_type": "markdown",
   "metadata": {
    "colab_type": "text",
    "id": "Ce6sj9vHAAzg"
   },
   "source": [
    "Loading pretrained model from the drive"
   ]
  },
  {
   "cell_type": "code",
   "execution_count": 0,
   "metadata": {
    "colab": {},
    "colab_type": "code",
    "id": "gA4i2XmCPxkw"
   },
   "outputs": [],
   "source": [
    "CONFIG_PATH = os.path.join(BERT_DIR, 'bert_config.json')\n",
    "CHECKPOINT_PATH = os.path.join(BERT_DIR,'bert_model.ckpt')"
   ]
  },
  {
   "cell_type": "code",
   "execution_count": 0,
   "metadata": {
    "colab": {},
    "colab_type": "code",
    "id": "n0IzqDOXek6o"
   },
   "outputs": [],
   "source": [
    "def load_pretrained_model(config_path=CONFIG_PATH,checkpoint=CHECKPOINT_PATH,max_seq_len=SEQ_LEN):\n",
    "  print('Loading Pretrained model....')\n",
    "  model = load_trained_model_from_checkpoint(\n",
    "      config_path,\n",
    "      checkpoint,\n",
    "      training=True,\n",
    "      trainable=True,\n",
    "      seq_len=max_seq_len,\n",
    "  )\n",
    "  print('Finished Loading pretrained model.')\n",
    "  return model"
   ]
  },
  {
   "cell_type": "code",
   "execution_count": 0,
   "metadata": {
    "colab": {},
    "colab_type": "code",
    "id": "C8XCorU0RQUB"
   },
   "outputs": [],
   "source": [
    "BATCH_SIZE = 128\n",
    "EPOCHS = 5\n",
    "LR = 1e-5"
   ]
  },
  {
   "cell_type": "markdown",
   "metadata": {
    "colab_type": "text",
    "id": "94B2LWnYARGz"
   },
   "source": [
    "###**2.2.2 Many-hot-encoding labels**"
   ]
  },
  {
   "cell_type": "code",
   "execution_count": 0,
   "metadata": {
    "colab": {},
    "colab_type": "code",
    "id": "NUBRUQsTawBm"
   },
   "outputs": [],
   "source": [
    "from sklearn.preprocessing import MultiLabelBinarizer\n",
    "mlb = MultiLabelBinarizer()\n",
    "y_train_binarized = mlb.fit_transform(y_train)\n",
    "y_test_binarized = mlb.fit_transform(y_test)"
   ]
  },
  {
   "cell_type": "markdown",
   "metadata": {
    "colab_type": "text",
    "id": "NH9TONtZAF51"
   },
   "source": [
    "##**2.3 Prepare keras model for classification**"
   ]
  },
  {
   "cell_type": "code",
   "execution_count": 0,
   "metadata": {
    "colab": {},
    "colab_type": "code",
    "id": "PEcfLwPWf-Cb"
   },
   "outputs": [],
   "source": [
    "def prepare_keras_model(pretrained_model,labels,batch_size=BATCH_SIZE,epochs=EPOCHS,lr = LR):\n",
    "  import keras\n",
    "  inputs = pretrained_model.inputs[:2]\n",
    "  dense = pretrained_model.layers[-3].output\n",
    "  outputs = keras.layers.Dense(8, activation='sigmoid', kernel_initializer=keras.initializers.TruncatedNormal(stddev=0.02),\n",
    "                              name = 'real_output')(dense)\n",
    "\n",
    "  decay_steps, warmup_steps = calc_train_steps(\n",
    "      labels.shape[0],\n",
    "      batch_size = 16,\n",
    "      epochs=2\n",
    "  )\n",
    "\n",
    "  model = keras.models.Model(inputs, outputs)\n",
    "  model.compile(\n",
    "      AdamWarmup(decay_steps=decay_steps,warmup_steps=warmup_steps, lr=LR),\n",
    "      loss='binary_crossentropy',\n",
    "      metrics=['accuracy']\n",
    "  )\n",
    "  #model.summary()\n",
    "  return model"
   ]
  },
  {
   "cell_type": "markdown",
   "metadata": {
    "colab_type": "text",
    "id": "iF3Y7jdwAKXv"
   },
   "source": [
    "Start Training Method"
   ]
  },
  {
   "cell_type": "code",
   "execution_count": 0,
   "metadata": {
    "colab": {},
    "colab_type": "code",
    "id": "ElH3AgGdjIMB"
   },
   "outputs": [],
   "source": [
    "def start_training(model,epochs=EPOCHS,batch_size=BATCH_SIZE):\n",
    "  history = model.fit(\n",
    "          data_train,\n",
    "          labels_train,\n",
    "          epochs=epochs,\n",
    "          batch_size=batch_size,\n",
    "          validation_data = (data_val,labels_val)\n",
    "      )\n",
    "  return history"
   ]
  },
  {
   "cell_type": "code",
   "execution_count": 58,
   "metadata": {
    "colab": {
     "base_uri": "https://localhost:8080/",
     "height": 85
    },
    "colab_type": "code",
    "id": "5ANT2-xwSSWW",
    "outputId": "c34972c0-8c21-47c3-aaa1-d5c200f33dfb"
   },
   "outputs": [
    {
     "name": "stdout",
     "output_type": "stream",
     "text": [
      "Loading Pretrained model....\n",
      "WARNING:tensorflow:From /usr/local/lib/python3.6/dist-packages/keras/backend/tensorflow_backend.py:4479: The name tf.truncated_normal is deprecated. Please use tf.random.truncated_normal instead.\n",
      "\n",
      "Finished Loading pretrained model.\n"
     ]
    }
   ],
   "source": [
    "pretrained_model = load_pretrained_model()"
   ]
  },
  {
   "cell_type": "markdown",
   "metadata": {
    "colab_type": "text",
    "id": "Nwz1aKhbAWb8"
   },
   "source": [
    "## **2.4 Start fine tuning**"
   ]
  },
  {
   "cell_type": "code",
   "execution_count": 59,
   "metadata": {
    "colab": {
     "base_uri": "https://localhost:8080/",
     "height": 306
    },
    "colab_type": "code",
    "id": "dRKZj6GDHNhz",
    "outputId": "8f6e5bad-19b8-4d4b-9e3e-d2c6e9bf7500"
   },
   "outputs": [
    {
     "name": "stdout",
     "output_type": "stream",
     "text": [
      "Train on 8850 samples, validate on 150 samples\n",
      "Epoch 1/8\n",
      "8850/8850 [==============================] - 74s 8ms/step - loss: 0.6267 - acc: 0.6976 - val_loss: 0.4806 - val_acc: 0.8358\n",
      "Epoch 2/8\n",
      "8850/8850 [==============================] - 61s 7ms/step - loss: 0.4283 - acc: 0.8305 - val_loss: 0.3448 - val_acc: 0.8650\n",
      "Epoch 3/8\n",
      "8850/8850 [==============================] - 61s 7ms/step - loss: 0.3511 - acc: 0.8671 - val_loss: 0.2881 - val_acc: 0.9008\n",
      "Epoch 4/8\n",
      "8850/8850 [==============================] - 61s 7ms/step - loss: 0.3072 - acc: 0.8887 - val_loss: 0.2553 - val_acc: 0.9117\n",
      "Epoch 5/8\n",
      "8850/8850 [==============================] - 61s 7ms/step - loss: 0.2772 - acc: 0.9034 - val_loss: 0.2304 - val_acc: 0.9325\n",
      "Epoch 6/8\n",
      "8850/8850 [==============================] - 61s 7ms/step - loss: 0.2536 - acc: 0.9144 - val_loss: 0.2157 - val_acc: 0.9317\n",
      "Epoch 7/8\n",
      "8850/8850 [==============================] - 61s 7ms/step - loss: 0.2363 - acc: 0.9216 - val_loss: 0.2088 - val_acc: 0.9275\n",
      "Epoch 8/8\n",
      "8850/8850 [==============================] - 61s 7ms/step - loss: 0.2226 - acc: 0.9265 - val_loss: 0.2005 - val_acc: 0.9308\n"
     ]
    }
   ],
   "source": [
    "data, labels = setup_training_data(X_train,y_train_binarized)\n",
    "data_train,data_val, labels_train, labels_val = train_validation_split(data=data, labels=labels)\n",
    "model = prepare_keras_model(pretrained_model=pretrained_model,labels=labels_train,lr=5e-5,epochs=2)\n",
    "history = start_training(model,epochs=8)"
   ]
  },
  {
   "cell_type": "markdown",
   "metadata": {
    "colab_type": "text",
    "id": "KvvmvoTqAo08"
   },
   "source": [
    "Plotting loss and accuracy graphs"
   ]
  },
  {
   "cell_type": "code",
   "execution_count": 60,
   "metadata": {
    "colab": {
     "base_uri": "https://localhost:8080/",
     "height": 312
    },
    "colab_type": "code",
    "id": "Qw_YBlFmEh1e",
    "outputId": "6634aac9-50cf-4df2-ea9f-d39ab829c711"
   },
   "outputs": [
    {
     "data": {
      "text/plain": [
       "<matplotlib.legend.Legend at 0x7f576ba9b828>"
      ]
     },
     "execution_count": 60,
     "metadata": {
      "tags": []
     },
     "output_type": "execute_result"
    },
    {
     "data": {
      "image/png": "[encoded data removed]",
      "text/plain": [
       "<Figure size 432x288 with 1 Axes>"
      ]
     },
     "metadata": {
      "tags": []
     },
     "output_type": "display_data"
    }
   ],
   "source": [
    "import matplotlib.pyplot as plt\n",
    "%matplotlib inline\n",
    "history_dict = history.history\n",
    "loss_values = history_dict['loss'] \n",
    "val_loss_values = history_dict['val_loss']\n",
    "epochs = range(1, len(loss_values) + 1)\n",
    "plt.plot(epochs, loss_values, 'r', label='Training loss') \n",
    "plt.plot(epochs, val_loss_values, 'b', label='Validation loss') \n",
    "plt.title('Training vs. validation loss')\n",
    "plt.xlabel('Epochs')\n",
    "plt.ylabel('Loss')\n",
    "plt.legend()"
   ]
  },
  {
   "cell_type": "code",
   "execution_count": 61,
   "metadata": {
    "colab": {
     "base_uri": "https://localhost:8080/",
     "height": 312
    },
    "colab_type": "code",
    "id": "y8IAOLrsElLP",
    "outputId": "58fca87a-9901-4056-9d48-ae6549e97f71"
   },
   "outputs": [
    {
     "data": {
      "text/plain": [
       "<matplotlib.legend.Legend at 0x7f576b923668>"
      ]
     },
     "execution_count": 61,
     "metadata": {
      "tags": []
     },
     "output_type": "execute_result"
    },
    {
     "data": {
      "image/png": "[encoded data removed]",
      "text/plain": [
       "<Figure size 432x288 with 1 Axes>"
      ]
     },
     "metadata": {
      "tags": []
     },
     "output_type": "display_data"
    }
   ],
   "source": [
    "#Plot Accuracy\n",
    "history_dict = history.history\n",
    "acc_values = history_dict['acc'] \n",
    "val_acc_values = history_dict['val_acc']\n",
    "epochs = range(1, len(acc_values) + 1)\n",
    "plt.plot(epochs, acc_values, 'r', label='Training Accuracy') \n",
    "plt.plot(epochs, val_acc_values, 'b', label='Validation Accuracy') \n",
    "plt.title('Training vs. validation Accuracy')\n",
    "plt.xlabel('Epochs')\n",
    "plt.ylabel('Accuracy') \n",
    "plt.legend()"
   ]
  },
  {
   "cell_type": "markdown",
   "metadata": {
    "colab_type": "text",
    "id": "OFyh07ijAdNt"
   },
   "source": [
    "Extract features from Test data to make predictions"
   ]
  },
  {
   "cell_type": "code",
   "execution_count": 0,
   "metadata": {
    "colab": {},
    "colab_type": "code",
    "id": "g1qqQATCjR8d"
   },
   "outputs": [],
   "source": [
    "indices = []\n",
    "for i in range(len(X_test)):\n",
    "  ids, segments = tokenizer.encode(X_test[i],max_len=64)\n",
    "  indices.append(ids)\n",
    "indices = np.array(indices)\n",
    "data_test = [indices, np.zeros_like(indices)]"
   ]
  },
  {
   "cell_type": "code",
   "execution_count": 0,
   "metadata": {
    "colab": {},
    "colab_type": "code",
    "id": "_gHxEhbz1Fuf"
   },
   "outputs": [],
   "source": [
    "labels_test = mlb.transform(y_test)"
   ]
  },
  {
   "cell_type": "markdown",
   "metadata": {
    "colab_type": "text",
    "id": "qhOfir3jAwB0"
   },
   "source": [
    "Evaluate the model on test set"
   ]
  },
  {
   "cell_type": "code",
   "execution_count": 64,
   "metadata": {
    "colab": {
     "base_uri": "https://localhost:8080/",
     "height": 51
    },
    "colab_type": "code",
    "id": "-UTtUP7Z2W8n",
    "outputId": "8b2162d6-98a9-4df9-8504-b4c8e6471ca5"
   },
   "outputs": [
    {
     "name": "stdout",
     "output_type": "stream",
     "text": [
      "1000/1000 [==============================] - 2s 2ms/step\n"
     ]
    },
    {
     "data": {
      "text/plain": [
       "[0.23334378230571748, 0.91575]"
      ]
     },
     "execution_count": 64,
     "metadata": {
      "tags": []
     },
     "output_type": "execute_result"
    }
   ],
   "source": [
    "model.evaluate(data_test,labels_test)"
   ]
  },
  {
   "cell_type": "markdown",
   "metadata": {
    "colab_type": "text",
    "id": "sVsqMpnDA0IA"
   },
   "source": [
    "## **2.5 Make prediction on test data**"
   ]
  },
  {
   "cell_type": "code",
   "execution_count": 0,
   "metadata": {
    "colab": {},
    "colab_type": "code",
    "id": "pNytNg452fMo"
   },
   "outputs": [],
   "source": [
    "y_pred = model.predict(data_test)"
   ]
  },
  {
   "cell_type": "markdown",
   "metadata": {
    "colab_type": "text",
    "id": "S9UlxGEyA4UU"
   },
   "source": [
    "Convert probabilities into 1 or 0 based on a threshold. Here, t"
   ]
  },
  {
   "cell_type": "code",
   "execution_count": 0,
   "metadata": {
    "colab": {},
    "colab_type": "code",
    "id": "wQvRrvvim-MC"
   },
   "outputs": [],
   "source": [
    "y_pred_norm = [[1 if val >= 0.5 else 0 for val in pred]for pred in y_pred]\n",
    "y_pred_norm = np.array(y_pred_norm)"
   ]
  },
  {
   "cell_type": "markdown",
   "metadata": {
    "colab_type": "text",
    "id": "sgY66fcKBZcU"
   },
   "source": [
    "## **2.6 Evaluate the model based on the matrices used in previous method**"
   ]
  },
  {
   "cell_type": "code",
   "execution_count": 0,
   "metadata": {
    "colab": {},
    "colab_type": "code",
    "id": "fnHY1C5GVF54"
   },
   "outputs": [],
   "source": [
    "from sklearn.metrics import precision_score, recall_score,f1_score, accuracy_score, hamming_loss, multilabel_confusion_matrix,jaccard_score, classification_report"
   ]
  },
  {
   "cell_type": "code",
   "execution_count": 68,
   "metadata": {
    "colab": {
     "base_uri": "https://localhost:8080/",
     "height": 34
    },
    "colab_type": "code",
    "id": "xL15XwzHc3lp",
    "outputId": "f86b99c5-4b2d-4333-dd58-61567970677e"
   },
   "outputs": [
    {
     "data": {
      "text/plain": [
       "(1000, 8)"
      ]
     },
     "execution_count": 68,
     "metadata": {
      "tags": []
     },
     "output_type": "execute_result"
    }
   ],
   "source": [
    "y_pred_norm.shape"
   ]
  },
  {
   "cell_type": "code",
   "execution_count": 69,
   "metadata": {
    "colab": {
     "base_uri": "https://localhost:8080/",
     "height": 173
    },
    "colab_type": "code",
    "id": "k393zodcVF6C",
    "outputId": "67e2712e-de93-4785-88fe-2f1fcaa21057"
   },
   "outputs": [
    {
     "name": "stdout",
     "output_type": "stream",
     "text": [
      "Jaccard Similarity : 0.6819\n",
      "Subset Accuracy : 0.5330\n",
      "Hamming Loss : 0.0843\n",
      "Precision: 0.7830\n",
      "Recall   : 0.7386\n",
      "F1-Score : 0.7333\n"
     ]
    },
    {
     "name": "stderr",
     "output_type": "stream",
     "text": [
      "/usr/local/lib/python3.6/dist-packages/sklearn/metrics/_classification.py:1272: UndefinedMetricWarning: Precision is ill-defined and being set to 0.0 in samples with no predicted labels. Use `zero_division` parameter to control this behavior.\n",
      "  _warn_prf(average, modifier, msg_start, len(result))\n"
     ]
    }
   ],
   "source": [
    "print(\"Jaccard Similarity : {:.4f}\".format(jaccard_score(labels_test, y_pred_norm,average='samples')))\n",
    "print(\"Subset Accuracy : {:.4f}\".format(accuracy_score(labels_test, y_pred_norm)))\n",
    "print(\"Hamming Loss : {:.4f}\".format(hamming_loss(labels_test,y_pred_norm)))\n",
    "print(\"Precision: {:.4f}\".format(precision_score(labels_test, y_pred_norm, average='samples')))\n",
    "print(\"Recall   : {:.4f}\".format(recall_score(labels_test, y_pred_norm, average='samples')))\n",
    "print(\"F1-Score : {:.4f}\".format(f1_score(labels_test, y_pred_norm, average='samples')))"
   ]
  },
  {
   "cell_type": "markdown",
   "metadata": {
    "colab_type": "text",
    "id": "BXUJvMinDVaJ"
   },
   "source": [
    "## **2.7 BERT classification report**"
   ]
  },
  {
   "cell_type": "code",
   "execution_count": 70,
   "metadata": {
    "colab": {
     "base_uri": "https://localhost:8080/",
     "height": 377
    },
    "colab_type": "code",
    "id": "36EvcnmTpIen",
    "outputId": "1c23b7ee-901b-4de8-db3b-237c86eb3e73"
   },
   "outputs": [
    {
     "name": "stdout",
     "output_type": "stream",
     "text": [
      "              precision    recall  f1-score   support\n",
      "\n",
      "           0       0.82      0.74      0.78       176\n",
      "           1       0.70      0.37      0.49       178\n",
      "           2       0.80      0.72      0.76       138\n",
      "           3       0.00      0.00      0.00         6\n",
      "           4       0.00      0.00      0.00        28\n",
      "           5       0.89      0.27      0.42        92\n",
      "           6       0.80      0.75      0.78       383\n",
      "           7       0.82      0.85      0.83       373\n",
      "\n",
      "   micro avg       0.80      0.67      0.73      1374\n",
      "   macro avg       0.60      0.46      0.51      1374\n",
      "weighted avg       0.78      0.67      0.71      1374\n",
      " samples avg       0.78      0.74      0.73      1374\n",
      "\n"
     ]
    },
    {
     "name": "stderr",
     "output_type": "stream",
     "text": [
      "/usr/local/lib/python3.6/dist-packages/sklearn/metrics/_classification.py:1272: UndefinedMetricWarning: Precision and F-score are ill-defined and being set to 0.0 in labels with no predicted samples. Use `zero_division` parameter to control this behavior.\n",
      "  _warn_prf(average, modifier, msg_start, len(result))\n",
      "/usr/local/lib/python3.6/dist-packages/sklearn/metrics/_classification.py:1272: UndefinedMetricWarning: Precision and F-score are ill-defined and being set to 0.0 in samples with no predicted labels. Use `zero_division` parameter to control this behavior.\n",
      "  _warn_prf(average, modifier, msg_start, len(result))\n"
     ]
    }
   ],
   "source": [
    "print(classification_report(labels_test,y_pred_norm))"
   ]
  }
 ],
 "metadata": {
  "accelerator": "GPU",
  "colab": {
   "collapsed_sections": [],
   "machine_shape": "hm",
   "name": "DL Project.ipynb",
   "provenance": []
  },
  "kernelspec": {
   "display_name": "Python 3",
   "language": "python",
   "name": "python3"
  },
  "language_info": {
   "codemirror_mode": {
    "name": "ipython",
    "version": 3
   },
   "file_extension": ".py",
   "mimetype": "text/x-python",
   "name": "python",
   "nbconvert_exporter": "python",
   "pygments_lexer": "ipython3",
   "version": "3.7.4"
  }
 },
 "nbformat": 4,
 "nbformat_minor": 1
}
